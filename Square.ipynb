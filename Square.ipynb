{
 "cells": [
  {
   "cell_type": "code",
   "execution_count": 5,
   "id": "57458458",
   "metadata": {},
   "outputs": [],
   "source": [
    "import turtle\n",
    "\n",
    "t = turtle.Turtle()\n",
    " \n",
    "m = 100;\n",
    "n = 50;\n",
    "\n",
    " \n",
    "for _ in range(5):\n",
    "    t.forward(n) # đi thẳng với m đơn vị\n",
    "    t.left(90)   # quay một góc 90 độ\n",
    "\n",
    "    t.forward(m) # đi thẳng với n đơn vị\n",
    "    t.left(90)   # quay một góc 90 độ\n",
    " \n",
    "    t.forward(m) # đi thẳng với m đơn vị\n",
    "    t.left(90)   # quay một góc 90 độ\n",
    " \n",
    "    t.forward(m) # đi thẳng với n đơn vị\n",
    "    t.left(90)   # quay một góc 90 độ\n",
    "\n",
    "    t.forward(n)\n",
    "    t.left(75)"
   ]
  },
  {
   "cell_type": "code",
   "execution_count": null,
   "id": "cf814f61",
   "metadata": {},
   "outputs": [],
   "source": []
  },
  {
   "cell_type": "code",
   "execution_count": null,
   "id": "68acff42",
   "metadata": {},
   "outputs": [],
   "source": []
  }
 ],
 "metadata": {
  "kernelspec": {
   "display_name": "Python 3",
   "language": "python",
   "name": "python3"
  },
  "language_info": {
   "codemirror_mode": {
    "name": "ipython",
    "version": 3
   },
   "file_extension": ".py",
   "mimetype": "text/x-python",
   "name": "python",
   "nbconvert_exporter": "python",
   "pygments_lexer": "ipython3",
   "version": "3.8.8"
  }
 },
 "nbformat": 4,
 "nbformat_minor": 5
}
